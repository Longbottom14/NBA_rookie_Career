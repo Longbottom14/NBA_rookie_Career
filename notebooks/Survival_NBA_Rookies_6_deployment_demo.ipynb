{
 "cells": [
  {
   "cell_type": "markdown",
   "id": "14d5dc16",
   "metadata": {},
   "source": [
    "## Pipenv"
   ]
  },
  {
   "cell_type": "code",
   "execution_count": null,
   "id": "3c66f723",
   "metadata": {},
   "outputs": [],
   "source": [
    "#gunicorn\n",
    "#lightgbm==3.3.1\n",
    "#scikit-learn==1.0.2\n",
    "#xgboost==1.4.2\n",
    "#catboost==1.0.3\n",
    "#Flask\n",
    "#pandas and numpy"
   ]
  },
  {
   "cell_type": "code",
   "execution_count": 2,
   "id": "19d1700a",
   "metadata": {},
   "outputs": [],
   "source": [
    "import pandas as pd\n",
    "import numpy as np\n",
    "import json\n",
    "import pickle"
   ]
  },
  {
   "cell_type": "code",
   "execution_count": 3,
   "id": "2fffdff8",
   "metadata": {},
   "outputs": [],
   "source": [
    "predictors = ['MPpg', 'PTSpg', 'FGpg', '3Ppg', 'FTpg', 'ORBpg', 'DRBpg', 'TRBpg',\n",
    "       'ASTpg', 'STLpg', 'BLKpg', 'TOVpg', 'PFpg', 'Age', 'Year_index',\n",
    "       'Team_index', 'FT', 'FT%', 'Games', 'MP', 'FG%']"
   ]
  },
  {
   "cell_type": "code",
   "execution_count": 4,
   "id": "ee9a793c",
   "metadata": {},
   "outputs": [],
   "source": [
    "with open('team_mapper.json') as json_file:\n",
    "    team_mapper = json.load(json_file)"
   ]
  },
  {
   "cell_type": "code",
   "execution_count": 5,
   "id": "34fb69ce",
   "metadata": {
    "collapsed": true
   },
   "outputs": [
    {
     "data": {
      "text/plain": [
       "{'ATL': 0,\n",
       " 'BOS': 1,\n",
       " 'BRK': 2,\n",
       " 'CHH': 3,\n",
       " 'CHI': 4,\n",
       " 'CLE': 5,\n",
       " 'DAL': 6,\n",
       " 'DEN': 7,\n",
       " 'DET': 8,\n",
       " 'GSW': 9,\n",
       " 'HOU': 10,\n",
       " 'IND': 11,\n",
       " 'LAC': 12,\n",
       " 'LAL': 13,\n",
       " 'MEM': 14,\n",
       " 'MIA': 15,\n",
       " 'MIL': 16,\n",
       " 'MIN': 17,\n",
       " 'NOP': 18,\n",
       " 'NYK': 19,\n",
       " 'OKC': 20,\n",
       " 'ORL': 21,\n",
       " 'PHI': 22,\n",
       " 'PHO': 23,\n",
       " 'POR': 24,\n",
       " 'SAC': 25,\n",
       " 'SAS': 26,\n",
       " 'TOR': 27,\n",
       " 'UTA': 28,\n",
       " 'WSH': 29}"
      ]
     },
     "execution_count": 5,
     "metadata": {},
     "output_type": "execute_result"
    }
   ],
   "source": [
    "team_mapper"
   ]
  },
  {
   "cell_type": "code",
   "execution_count": 6,
   "id": "d8c3ccf6",
   "metadata": {
    "scrolled": false
   },
   "outputs": [
    {
     "name": "stderr",
     "output_type": "stream",
     "text": [
      "C:\\ProgramData\\Anaconda3\\lib\\site-packages\\dask\\dataframe\\utils.py:366: FutureWarning: pandas.Int64Index is deprecated and will be removed from pandas in a future version. Use pandas.Index with the appropriate dtype instead.\n",
      "  _numeric_index_types = (pd.Int64Index, pd.Float64Index, pd.UInt64Index)\n",
      "C:\\ProgramData\\Anaconda3\\lib\\site-packages\\dask\\dataframe\\utils.py:366: FutureWarning: pandas.Float64Index is deprecated and will be removed from pandas in a future version. Use pandas.Index with the appropriate dtype instead.\n",
      "  _numeric_index_types = (pd.Int64Index, pd.Float64Index, pd.UInt64Index)\n",
      "C:\\ProgramData\\Anaconda3\\lib\\site-packages\\dask\\dataframe\\utils.py:366: FutureWarning: pandas.UInt64Index is deprecated and will be removed from pandas in a future version. Use pandas.Index with the appropriate dtype instead.\n",
      "  _numeric_index_types = (pd.Int64Index, pd.Float64Index, pd.UInt64Index)\n",
      "C:\\ProgramData\\Anaconda3\\lib\\site-packages\\xgboost\\compat.py:31: FutureWarning: pandas.Int64Index is deprecated and will be removed from pandas in a future version. Use pandas.Index with the appropriate dtype instead.\n",
      "  from pandas import MultiIndex, Int64Index\n"
     ]
    }
   ],
   "source": [
    "models ={}\n",
    "with open('rookie-models.bin', 'rb') as f_in:\n",
    "    models['lr'],models['lgb'],models['xgb'],models['cats'],models['ada'],models['gbm'],models['rf'] = pickle.load(f_in)"
   ]
  },
  {
   "cell_type": "code",
   "execution_count": 7,
   "id": "c1df9f10",
   "metadata": {
    "scrolled": false
   },
   "outputs": [
    {
     "data": {
      "text/plain": [
       "{'lr': LogisticRegression(C=0.1, solver='liblinear'),\n",
       " 'lgb': LGBMClassifier(colsample_bytree=0.9, learning_rate=0.008, max_depth=5,\n",
       "                metric='binary_logloss', min_child_samples=10, n_estimators=5000,\n",
       "                num_leaves=120, random_state=34, reg_alpha=5, reg_lambda=2,\n",
       "                subsample=0.7, subsample_freq=2),\n",
       " 'xgb': XGBClassifier(base_score=0.5, booster='gbtree', colsample_bylevel=1,\n",
       "               colsample_bynode=1, colsample_bytree=0.9, gamma=0, gpu_id=-1,\n",
       "               importance_type='gain', interaction_constraints='',\n",
       "               learning_rate=0.01, max_delta_step=0, max_depth=5,\n",
       "               min_child_weight=1, missing=nan, monotone_constraints='()',\n",
       "               n_estimators=5000, n_jobs=-1, num_parallel_tree=1,\n",
       "               random_state=34, reg_alpha=10, reg_lambda=1, scale_pos_weight=1,\n",
       "               subsample=0.7, tree_method='exact', validate_parameters=1,\n",
       "               verbosity=None),\n",
       " 'cats': <catboost.core.CatBoostClassifier at 0x26e80ebcd60>,\n",
       " 'ada': AdaBoostClassifier(learning_rate=0.01, n_estimators=1000),\n",
       " 'gbm': GradientBoostingClassifier(learning_rate=0.01, max_depth=10,\n",
       "                            min_samples_leaf=10, min_samples_split=10,\n",
       "                            n_estimators=1000, random_state=10),\n",
       " 'rf': RandomForestClassifier(min_samples_split=10, n_estimators=200)}"
      ]
     },
     "execution_count": 7,
     "metadata": {},
     "output_type": "execute_result"
    }
   ],
   "source": [
    "models"
   ]
  },
  {
   "cell_type": "code",
   "execution_count": 8,
   "id": "cfd1318d",
   "metadata": {},
   "outputs": [],
   "source": [
    "def predict_single(feature_dict_list,models,predictors):\n",
    "    #feature_dict['Year_index'] = feature_dict['Year'] - 1979\n",
    "    #feature_dict['Team_index'] = team_mapper[feature_dict['Team']]\n",
    "    df = pd.DataFrame.from_dict(feature_dict_list)\n",
    "    df['Year_index'] = df['Year'] - 1979\n",
    "    df['Team_index'] = df['Team'].map(team_mapper)\n",
    "    final_predictions = (\n",
    "         (models['lr'].predict_proba(df[predictors])[:,1]) +\n",
    "        (models['lgb'].predict_proba(df[predictors])[:,1]) +\n",
    "        (models['xgb'].predict_proba(df[predictors])[:,1]) +\n",
    "        (models['cats'].predict_proba(df[predictors])[:,1])+ \n",
    "        (models['ada'].predict_proba(df[predictors])[:,1])+\n",
    "         (models['gbm'].predict_proba(df[predictors])[:,1])+\n",
    "         (models['rf'].predict_proba(df[predictors])[:,1])\n",
    "    )/7\n",
    "    final_preds = (final_predictions>=0.52)*1\n",
    "    return final_predictions,final_preds"
   ]
  },
  {
   "cell_type": "code",
   "execution_count": 10,
   "id": "692e1617",
   "metadata": {},
   "outputs": [],
   "source": [
    "l = [{'Unnamed: 0': 2458,\n",
    "  'Player': 'Thanasis Antetokounmpo',\n",
    "  'Team': 'NYK',\n",
    "  'Year': 2016,\n",
    "  'Conf': 'EAST',\n",
    "  'Age': 23.0,\n",
    "  'Career': 4.0,\n",
    "  'Games': 2.0,\n",
    "  'MP': 6.0,\n",
    "  'PTS': 6.0,\n",
    "  'FG': 3.0,\n",
    "  'FGA': 4.0,\n",
    "  'FG%': 0.75,\n",
    "  '3P': 0.0,\n",
    "  '3PA': 1.0,\n",
    "  '3P%': 0.0,\n",
    "  'FT': 0.0,\n",
    "  'FTA': 0.0,\n",
    "  'FT%': 0.0,\n",
    "  'ORB': 0.0,\n",
    "  'DRB': 1.0,\n",
    "  'TRB': 1.0,\n",
    "  'AST': 0.0,\n",
    "  'STL': 0.0,\n",
    "  'BLK': 0.0,\n",
    "  'TOV': 0.0,\n",
    "  'PF': 2.0,\n",
    "  'MPpg': 3.0,\n",
    "  'PTSpg': 3.0,\n",
    "  'FGpg': 1.5,\n",
    "  '3Ppg': 0.0,\n",
    "  'FTpg': 0.0,\n",
    "  'ORBpg': 0.0,\n",
    "  'DRBpg': 0.5,\n",
    "  'TRBpg': 0.5,\n",
    "  'ASTpg': 0.0,\n",
    "  'STLpg': 0.0,\n",
    "  'BLKpg': 0.0,\n",
    "  'TOVpg': 0.0,\n",
    "  'PFpg': 1.0,\n",
    "  'target>=2': 1,\n",
    "  'target>=3': 1,\n",
    "  'target>=4': 1,\n",
    "  'target>=5': 0,\n",
    "  'Team_index': 19,\n",
    "  'Year_index': 37},\n",
    " {'Unnamed: 0': 2616,\n",
    "  'Player': 'Ivica Zubac',\n",
    "  'Team': 'LAL',\n",
    "  'Year': 2016,\n",
    "  'Conf': 'WEST',\n",
    "  'Age': 19.0,\n",
    "  'Career': 6.0,\n",
    "  'Games': 38.0,\n",
    "  'MP': 609.0,\n",
    "  'PTS': 284.0,\n",
    "  'FG': 126.0,\n",
    "  'FGA': 238.0,\n",
    "  'FG%': 0.529,\n",
    "  '3P': 0.0,\n",
    "  '3PA': 3.0,\n",
    "  '3P%': 0.0,\n",
    "  'FT': 32.0,\n",
    "  'FTA': 49.0,\n",
    "  'FT%': 0.653,\n",
    "  'ORB': 41.0,\n",
    "  'DRB': 118.0,\n",
    "  'TRB': 159.0,\n",
    "  'AST': 30.0,\n",
    "  'STL': 14.0,\n",
    "  'BLK': 33.0,\n",
    "  'TOV': 30.0,\n",
    "  'PF': 66.0,\n",
    "  'MPpg': 16.03,\n",
    "  'PTSpg': 7.5,\n",
    "  'FGpg': 3.32,\n",
    "  '3Ppg': 0.0,\n",
    "  'FTpg': 0.84,\n",
    "  'ORBpg': 1.08,\n",
    "  'DRBpg': 3.11,\n",
    "  'TRBpg': 4.2,\n",
    "  'ASTpg': 0.8,\n",
    "  'STLpg': 0.37,\n",
    "  'BLKpg': 0.87,\n",
    "  'TOVpg': 0.79,\n",
    "  'PFpg': 1.74,\n",
    "  'target>=2': 1,\n",
    "  'target>=3': 1,\n",
    "  'target>=4': 1,\n",
    "  'target>=5': 1,\n",
    "  'Team_index': 13,\n",
    "  'Year_index': 37}]"
   ]
  },
  {
   "cell_type": "code",
   "execution_count": 11,
   "id": "5a549bfe",
   "metadata": {},
   "outputs": [
    {
     "data": {
      "text/plain": [
       "(array([0.11916493, 0.87706843]), array([0, 1]))"
      ]
     },
     "execution_count": 11,
     "metadata": {},
     "output_type": "execute_result"
    }
   ],
   "source": [
    "predict_single(feature_dict_list=l,models=models,predictors=predictors)"
   ]
  },
  {
   "cell_type": "code",
   "execution_count": 12,
   "id": "b28c80f9",
   "metadata": {
    "scrolled": true
   },
   "outputs": [
    {
     "data": {
      "text/plain": [
       "['MPpg',\n",
       " 'PTSpg',\n",
       " 'FGpg',\n",
       " '3Ppg',\n",
       " 'FTpg',\n",
       " 'ORBpg',\n",
       " 'DRBpg',\n",
       " 'TRBpg',\n",
       " 'ASTpg',\n",
       " 'STLpg',\n",
       " 'BLKpg',\n",
       " 'TOVpg',\n",
       " 'PFpg',\n",
       " 'Age',\n",
       " 'Year_index',\n",
       " 'Team_index',\n",
       " 'FT',\n",
       " 'FT%',\n",
       " 'Games',\n",
       " 'MP',\n",
       " 'FG%']"
      ]
     },
     "execution_count": 12,
     "metadata": {},
     "output_type": "execute_result"
    }
   ],
   "source": [
    "predictors"
   ]
  },
  {
   "cell_type": "code",
   "execution_count": null,
   "id": "5c2fc00e",
   "metadata": {},
   "outputs": [],
   "source": [
    "['Year','Team','Age',]"
   ]
  }
 ],
 "metadata": {
  "kernelspec": {
   "display_name": "Python 3",
   "language": "python",
   "name": "python3"
  },
  "language_info": {
   "codemirror_mode": {
    "name": "ipython",
    "version": 3
   },
   "file_extension": ".py",
   "mimetype": "text/x-python",
   "name": "python",
   "nbconvert_exporter": "python",
   "pygments_lexer": "ipython3",
   "version": "3.8.3"
  }
 },
 "nbformat": 4,
 "nbformat_minor": 5
}
